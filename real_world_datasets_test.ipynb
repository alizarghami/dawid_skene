{
 "cells": [
  {
   "cell_type": "markdown",
   "id": "a66ba800",
   "metadata": {},
   "source": [
    "Visit https://github.com/TrentoCrowdAI/crowdsourced-datasets and follow the instructions to download the datasets."
   ]
  },
  {
   "cell_type": "markdown",
   "id": "719c32b6",
   "metadata": {},
   "source": [
    "### TODO\n",
    "\n",
    "* Handle partially labeled data"
   ]
  },
  {
   "cell_type": "code",
   "execution_count": 1,
   "id": "7d2a5190",
   "metadata": {},
   "outputs": [],
   "source": [
    "import pandas as pd\n",
    "\n",
    "# dataset_path = \"../crowdsourced-datasets/binary-classification/Blue Birds/transformed_dataset.csv\"\n",
    "# dataset_path = \"../crowdsourced-datasets/multi-class-classification/Weather Sentiment - AMT/transformed_dataset.csv\"\n",
    "dataset_path = \"../crowdsourced-datasets/my-dataset/transformed_dataset.csv\"\n",
    "\n",
    "df = pd.read_csv(dataset_path).dropna(how='all')"
   ]
  },
  {
   "cell_type": "code",
   "execution_count": 2,
   "id": "05e20b7e",
   "metadata": {},
   "outputs": [],
   "source": [
    "# Normalize labels\n",
    "\n",
    "# Combine unique values\n",
    "unique_values = pd.Series(pd.unique(df[['response', 'goldLabel']].dropna().values.ravel())).sort_values()\n",
    "\n",
    "# Map each unique value to a unique integer\n",
    "value_to_int = pd.Series(range(len(unique_values)), index=unique_values)\n",
    "\n",
    "# Map column to integers\n",
    "df['normal_response'] = df['response'].map(value_to_int)\n",
    "df['normal_goldLabel'] = df['goldLabel'].map(value_to_int)"
   ]
  },
  {
   "cell_type": "code",
   "execution_count": 3,
   "id": "c59a8a29",
   "metadata": {},
   "outputs": [],
   "source": [
    "worker_list = df['workerID'].unique()\n",
    "task_list = df['taskID'].unique()\n",
    "label_list = df['normal_goldLabel'].unique()\n",
    "\n",
    "data = df.groupby('taskID').apply(lambda x: dict(zip(x['workerID'], [x['normal_response']]))).to_dict()\n",
    "labels_dictionary = df.drop_duplicates(subset='taskID').set_index('taskID')['normal_goldLabel'].to_dict()"
   ]
  },
  {
   "cell_type": "code",
   "execution_count": 4,
   "id": "ec009ce0",
   "metadata": {},
   "outputs": [
    {
     "name": "stdout",
     "output_type": "stream",
     "text": [
      "num Tasks: 7661\n",
      "num Observers: 3\n",
      "num Classes: 5\n"
     ]
    }
   ],
   "source": [
    "print (\"num Tasks:\", len(task_list))\n",
    "print (\"num Observers:\", len(worker_list))\n",
    "print (\"num Classes:\", len(label_list))"
   ]
  },
  {
   "cell_type": "markdown",
   "id": "4a83c816",
   "metadata": {},
   "source": [
    "# Run Test"
   ]
  },
  {
   "cell_type": "code",
   "execution_count": 5,
   "id": "b55a36b5",
   "metadata": {},
   "outputs": [
    {
     "data": {
      "text/plain": [
       "array([[9.99318655e-001, 6.62954257e-004, 1.36475661e-005,\n",
       "        1.37268847e-152, 4.74349299e-006],\n",
       "       [9.80763951e-001, 1.60999690e-003, 1.73199769e-002,\n",
       "        6.95148358e-103, 3.06075466e-004],\n",
       "       [9.99318655e-001, 6.62954257e-004, 1.36475661e-005,\n",
       "        1.37268847e-152, 4.74349299e-006],\n",
       "       ...,\n",
       "       [8.47018892e-001, 1.52877314e-001, 1.03794489e-004,\n",
       "        2.47919379e-153, 0.00000000e+000],\n",
       "       [4.83077133e-003, 5.33861228e-003, 9.89830616e-001,\n",
       "        3.76464377e-056, 0.00000000e+000],\n",
       "       [4.83077133e-003, 5.33861228e-003, 9.89830616e-001,\n",
       "        3.76464377e-056, 0.00000000e+000]])"
      ]
     },
     "execution_count": 5,
     "metadata": {},
     "output_type": "execute_result"
    }
   ],
   "source": [
    "from dawid_skene import run as run_em\n",
    "\n",
    "_, _, _, _, class_marginals, error_rates, patient_classes = run_em(data, verbose=False)\n",
    "patient_classes"
   ]
  },
  {
   "cell_type": "markdown",
   "id": "b3a4fc71",
   "metadata": {},
   "source": [
    "# Evaluation"
   ]
  },
  {
   "cell_type": "code",
   "execution_count": 6,
   "id": "9ff81368",
   "metadata": {},
   "outputs": [],
   "source": [
    "from sklearn.metrics import accuracy_score, confusion_matrix\n",
    "import numpy as np"
   ]
  },
  {
   "cell_type": "code",
   "execution_count": 7,
   "id": "f8d1a036",
   "metadata": {},
   "outputs": [
    {
     "name": "stdout",
     "output_type": "stream",
     "text": [
      "Accuracy: %66\n"
     ]
    }
   ],
   "source": [
    "true_labels = list(labels_dictionary.values())\n",
    "estimated_labels = np.argmax(patient_classes, axis=1)\n",
    "\n",
    "accuracy = int(100 * accuracy_score(true_labels, estimated_labels))\n",
    "\n",
    "print(\"Accuracy: %{}\".format(accuracy))"
   ]
  },
  {
   "cell_type": "code",
   "execution_count": 8,
   "id": "0147e7b4",
   "metadata": {},
   "outputs": [],
   "source": [
    "# Get the confusion matrices\n",
    "\n",
    "confusion_matrices = []\n",
    "for value in df['workerID'].unique():\n",
    "    worker_df = df[df['workerID'] == value]\n",
    "\n",
    "    confusion_matrices.append(confusion_matrix(worker_df['normal_goldLabel'], worker_df['normal_response'], labels=label_list))"
   ]
  },
  {
   "cell_type": "code",
   "execution_count": 9,
   "id": "08e463ec",
   "metadata": {},
   "outputs": [],
   "source": [
    "def frobenius_norm(matrix1, matrix2):\n",
    "    # Convert the input matrices to numpy arrays if they are not already\n",
    "    matrix1 = np.array(matrix1)\n",
    "    matrix2 = np.array(matrix2)\n",
    "    \n",
    "    # Calculate the Frobenius norm of the difference\n",
    "    difference = matrix1 - matrix2\n",
    "    norm = np.linalg.norm(difference, 'fro')\n",
    "    \n",
    "    return norm"
   ]
  },
  {
   "cell_type": "code",
   "execution_count": 10,
   "id": "af028cb3",
   "metadata": {},
   "outputs": [
    {
     "name": "stdout",
     "output_type": "stream",
     "text": [
      "[1 2 0 4 3]\n",
      "confusion matrix 0:\n",
      " [[1495   15    7    0    8]\n",
      " [  20  864   44    2    6]\n",
      " [ 245  145 4842   20   15]\n",
      " [   0    0    0  172    0]\n",
      " [   0    0    0    0   27]] \n",
      "\n",
      "confusion matrix 1:\n",
      " [[1463    5   57    0    0]\n",
      " [   0  909   22    0    5]\n",
      " [  18   29 5220    0    0]\n",
      " [   0   26   21  125    0]\n",
      " [   0    1    0    0   26]] \n",
      "\n",
      "confusion matrix 2:\n",
      " [[1126    6  393    0    0]\n",
      " [   6  885   43    2    0]\n",
      " [ 170   92 5000    5    0]\n",
      " [   0    1    2  169    0]\n",
      " [   0    0    0    0   27]] \n",
      "\n"
     ]
    }
   ],
   "source": [
    "print(label_list)\n",
    "print('confusion matrix 0:\\n',confusion_matrices[0],'\\n')\n",
    "print('confusion matrix 1:\\n',confusion_matrices[1],'\\n')\n",
    "print('confusion matrix 2:\\n',confusion_matrices[2],'\\n')\n"
   ]
  },
  {
   "cell_type": "code",
   "execution_count": 11,
   "id": "2778ec30",
   "metadata": {},
   "outputs": [
    {
     "name": "stdout",
     "output_type": "stream",
     "text": [
      "error_rates:\n",
      " [[9.55461788e-01 2.47707305e-02 1.72995735e-02 9.52545679e-04\n",
      "  1.51536220e-03]\n",
      " [1.23274082e-01 8.69496115e-01 5.52299727e-03 1.70680618e-03\n",
      "  0.00000000e+00]\n",
      " [4.03835594e-02 9.39420584e-03 9.45492899e-01 3.95393043e-03\n",
      "  7.75405564e-04]\n",
      " [1.30552810e-50 7.21208939e-53 1.21970081e-02 9.87802992e-01\n",
      "  0.00000000e+00]\n",
      " [4.94774796e-02 0.00000000e+00 5.88978441e-02 0.00000000e+00\n",
      "  8.91624676e-01]] \n",
      "\n"
     ]
    }
   ],
   "source": [
    "\n",
    "print('error_rates:\\n',error_rates[0],'\\n')"
   ]
  },
  {
   "cell_type": "code",
   "execution_count": 12,
   "id": "7fca9828",
   "metadata": {},
   "outputs": [
    {
     "name": "stdout",
     "output_type": "stream",
     "text": [
      "Average Parameter Estimation Error: 5150.46\n"
     ]
    }
   ],
   "source": [
    "parameter_error_rate = np.mean([frobenius_norm(cm_true, cm_estimate) for cm_true, cm_estimate in zip(confusion_matrices, error_rates)])\n",
    "\n",
    "print(\"Average Parameter Estimation Error: {:.2f}\".format(parameter_error_rate))"
   ]
  }
 ],
 "metadata": {
  "kernelspec": {
   "display_name": "MyMove_tf",
   "language": "python",
   "name": "python3"
  },
  "language_info": {
   "codemirror_mode": {
    "name": "ipython",
    "version": 3
   },
   "file_extension": ".py",
   "mimetype": "text/x-python",
   "name": "python",
   "nbconvert_exporter": "python",
   "pygments_lexer": "ipython3",
   "version": "3.9.15"
  }
 },
 "nbformat": 4,
 "nbformat_minor": 5
}
