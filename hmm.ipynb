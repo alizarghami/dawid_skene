{
 "cells": [
  {
   "cell_type": "code",
   "execution_count": 1,
   "metadata": {},
   "outputs": [
    {
     "name": "stdout",
     "output_type": "stream",
     "text": [
      "hmmlearn version: 0.3.2\n",
      "pybind11 version: 2.12.0\n",
      "Python version: 3.9.15 (main, Nov 24 2022, 14:39:17) [MSC v.1916 64 bit (AMD64)]\n"
     ]
    }
   ],
   "source": [
    "import hmmlearn\n",
    "import pybind11\n",
    "import sys\n",
    "\n",
    "print(\"hmmlearn version:\", hmmlearn.__version__)\n",
    "print(\"pybind11 version:\", pybind11.__version__)\n",
    "print(\"Python version:\", sys.version)"
   ]
  },
  {
   "cell_type": "code",
   "execution_count": 2,
   "metadata": {},
   "outputs": [],
   "source": [
    "import numpy as np\n",
    "from hmmlearn import hmm\n"
   ]
  },
  {
   "cell_type": "code",
   "execution_count": 3,
   "metadata": {},
   "outputs": [],
   "source": [
    "\n",
    "np.random.seed(42)\n",
    "\n",
    "model = hmm.GaussianHMM(n_components=3, covariance_type=\"full\")\n",
    "model.startprob_ = np.array([0.6, 0.3, 0.1])\n",
    "model.transmat_ = np.array([[0.7, 0.2, 0.1],\n",
    "                            [0.3, 0.5, 0.2],\n",
    "                            [0.3, 0.3, 0.4]])\n",
    "model.means_ = np.array([[0.0, 0.0], [3.0, -3.0], [5.0, 10.0]])\n",
    "model.covars_ = np.tile(np.identity(2), (3, 1, 1))\n",
    "X, Z = model.sample(100)\n"
   ]
  },
  {
   "cell_type": "code",
   "execution_count": 4,
   "metadata": {},
   "outputs": [
    {
     "data": {
      "text/plain": [
       "GaussianHMM(covariance_type='full', n_components=3, n_iter=100)"
      ]
     },
     "execution_count": 4,
     "metadata": {},
     "output_type": "execute_result"
    }
   ],
   "source": [
    "remodel = hmm.GaussianHMM(n_components=3, covariance_type=\"full\", n_iter=100)\n",
    "remodel.fit(X)"
   ]
  },
  {
   "cell_type": "code",
   "execution_count": 5,
   "metadata": {},
   "outputs": [],
   "source": [
    "nWorkers = 5    # Number of Channels\n",
    "nSamples = 45   # Number of Data\n",
    "nClasses = 4    # Number of Classes"
   ]
  },
  {
   "cell_type": "code",
   "execution_count": 8,
   "metadata": {},
   "outputs": [],
   "source": [
    "\n",
    "# Number of possible observations\n",
    "n_observations = 4\n",
    "\n",
    "# Number of hidden states\n",
    "n_states = 4\n",
    "\n",
    "# Generate random observed data (replace with your actual data)\n",
    "observations = np.random.randint(0, n_observations, size=1000)\n",
    "\n",
    "# Create a Categorical Hidden Markov Model\n",
    "model = hmm.CategoricalHMM(n_components=n_states, n_iter=100)\n",
    "\n",
    "# Fit the model to the observations using the Baum-Welch algorithm\n",
    "model.fit(observations.reshape(-1, 1))\n",
    "obs=observations.reshape(-1, 1)\n"
   ]
  },
  {
   "cell_type": "code",
   "execution_count": 8,
   "metadata": {},
   "outputs": [
    {
     "name": "stdout",
     "output_type": "stream",
     "text": [
      "Means: [[ 7.51580881]\n",
      " [ 7.57086256]\n",
      " [-0.10376863]]\n",
      "Covariances: [[[7.53156374]]\n",
      "\n",
      " [[7.24896795]]\n",
      "\n",
      " [[0.81691181]]]\n",
      "Transition Matrix: [[1.06136123e-03 9.98938639e-01 4.41129774e-19]\n",
      " [9.89463121e-01 1.05368787e-02 6.88686876e-19]\n",
      " [8.73411719e-03 1.26624615e-03 9.89999637e-01]]\n"
     ]
    }
   ],
   "source": [
    "import numpy as np\n",
    "from hmmlearn import hmm\n",
    "\n",
    "# Generate synthetic data\n",
    "np.random.seed(42)\n",
    "X = np.concatenate([\n",
    "    np.random.normal(0, 1, (100, 1)),\n",
    "    np.random.normal(5, 1, (100, 1)),\n",
    "    np.random.normal(10, 1, (100, 1))\n",
    "])\n",
    "\n",
    "# Initialize the Gaussian HMM\n",
    "model = hmm.GaussianHMM(n_components=3, covariance_type=\"diag\", n_iter=100, random_state=42)\n",
    "\n",
    "# Fit the model to the data\n",
    "model.fit(X)\n",
    "\n",
    "# Predict the hidden states\n",
    "hidden_states = model.predict(X)\n",
    "\n",
    "# Print model parameters\n",
    "print(\"Means:\", model.means_)\n",
    "print(\"Covariances:\", model.covars_)\n",
    "print(\"Transition Matrix:\", model.transmat_)\n"
   ]
  },
  {
   "cell_type": "code",
   "execution_count": 16,
   "metadata": {},
   "outputs": [
    {
     "name": "stdout",
     "output_type": "stream",
     "text": [
      "-52.67051117772867\n",
      "example-start, s1, s1, s1, s2, s3, s3, s3, s3, s3, s3, s3, s3, s3, s3, s3, s3, s3, s3, s3, s3, example-end\n"
     ]
    }
   ],
   "source": [
    "from pomegranate import *\n",
    "# state1 = State([DiscreteDistribution({'A': 0.5, 'B': 0.5}),\n",
    "                # NormalDistribution(50, 10)], name='state1')\n",
    "# NormalDistribution(50, 10)], name='state1'\n",
    "d1 = DiscreteDistribution({'A' : 0.65, 'C' : 0.05, 'D' : 0.05, 'E' : 0.05, 'F' : 0.05, 'G' : 0.05, 'H' : 0.05, 'I' : 0.05})\n",
    "d2 = DiscreteDistribution({'A' : 0.05, 'C' : 0.65, 'D' : 0.05, 'E' : 0.05, 'F' : 0.05, 'G' : 0.05, 'H' : 0.05, 'I' : 0.05})\n",
    "d3 = DiscreteDistribution({'A' : 0.05, 'C' : 0.05, 'D' : 0.65, 'E' : 0.05, 'F' : 0.05, 'G' : 0.05, 'H' : 0.05, 'I' : 0.05})\n",
    "d4 = DiscreteDistribution({'A' : 0.05, 'C' : 0.05, 'D' : 0.05, 'E' : 0.65, 'F' : 0.05, 'G' : 0.05, 'H' : 0.05, 'I' : 0.05})\n",
    "d5 = DiscreteDistribution({'A' : 0.05, 'C' : 0.05, 'D' : 0.05, 'E' : 0.05, 'F' : 0.65, 'G' : 0.05, 'H' : 0.05, 'I' : 0.05})\n",
    "d6 = DiscreteDistribution({'A' : 0.05, 'C' : 0.05, 'D' : 0.05, 'E' : 0.05, 'F' : 0.05, 'G' : 0.65, 'H' : 0.05, 'I' : 0.05})\n",
    "d7 = DiscreteDistribution({'A' : 0.05, 'C' : 0.05, 'D' : 0.05, 'E' : 0.05, 'F' : 0.05, 'G' : 0.05, 'H' : 0.65, 'I' : 0.05})\n",
    "d8 = DiscreteDistribution({'A' : 0.05, 'C' : 0.05, 'D' : 0.05, 'E' : 0.05, 'F' : 0.05, 'G' : 0.05, 'H' : 0.05, 'I' : 0.65})\n",
    "\n",
    "\n",
    "s1 = State(d1, name=\"s1\")\n",
    "s2 = State(d2, name=\"s2\")\n",
    "s3 = State(d3, name=\"s3\")\n",
    "s4 = State(d4, name=\"s4\")\n",
    "s5 = State(d5, name=\"s5\")\n",
    "s6 = State(d6, name=\"s6\")\n",
    "s7 = State(d7, name=\"s7\")\n",
    "s8 = State(d8, name=\"s8\")\n",
    "\n",
    "model = HiddenMarkovModel('example')\n",
    "model.add_states([s1, s2, s3, s4, s5, s6, s7, s8])\n",
    "model.add_transition(model.start, s1, 0.90)\n",
    "model.add_transition(model.start, s2, 0.10)\n",
    "model.add_transition(s1, s1, 0.80)\n",
    "model.add_transition(s1, s2, 0.20)\n",
    "model.add_transition(s2, s2, 0.90)\n",
    "model.add_transition(s2, s3, 0.10)\n",
    "model.add_transition(s3, s3, 0.70)\n",
    "model.add_transition(s3, model.end, 0.30)\n",
    "model.bake()\n",
    "\n",
    "print (model.log_probability(list('AAACDDDEEEGGHHHHIIII')))\n",
    "-4.31828085576\n",
    "print (\", \".join(state.name for i, state in model.viterbi(list('AAACDDDEEEGGHHHHIIII'))[1]))\n"
   ]
  }
 ],
 "metadata": {
  "kernelspec": {
   "display_name": "MyMove_tf",
   "language": "python",
   "name": "python3"
  },
  "language_info": {
   "codemirror_mode": {
    "name": "ipython",
    "version": 3
   },
   "file_extension": ".py",
   "mimetype": "text/x-python",
   "name": "python",
   "nbconvert_exporter": "python",
   "pygments_lexer": "ipython3",
   "version": "3.9.15"
  }
 },
 "nbformat": 4,
 "nbformat_minor": 2
}
